{
 "cells": [
  {
   "cell_type": "code",
   "execution_count": 19,
   "metadata": {},
   "outputs": [],
   "source": [
    "import cv2\n",
    "import matplotlib.pyplot as plt\n",
    "import numpy as np"
   ]
  },
  {
   "cell_type": "code",
   "execution_count": 20,
   "metadata": {},
   "outputs": [
    {
     "name": "stdout",
     "output_type": "stream",
     "text": [
      "(193, 278)\n",
      "(193, 278)\n",
      "3\n",
      "(28, 28)\n"
     ]
    }
   ],
   "source": [
    "image = cv2.imread('arithmatic_expression.png',cv2.IMREAD_GRAYSCALE)  # Load image in grayscale\n",
    "\n",
    "# Apply Gaussian blur to reduce noise\n",
    "blurred = cv2.GaussianBlur(image, (5, 5), 0)\n",
    "\n",
    "print(image.shape)\n",
    "print(blurred.shape)\n",
    "\n",
    "# Apply adaptive thresholding to convert the image into binary\n",
    "_, thresholded = cv2.threshold(blurred, 0, 255, cv2.THRESH_BINARY_INV + cv2.THRESH_OTSU)\n",
    "\n",
    "# Find contours in the thresholded image\n",
    "contours, _ = cv2.findContours(thresholded.copy(), cv2.RETR_EXTERNAL, cv2.CHAIN_APPROX_SIMPLE)\n",
    "\n",
    "digits = []\n",
    "for contour in contours:\n",
    "    \n",
    "    # Get bounding rectangle of the contour\n",
    "    (x, y, w, h) = cv2.boundingRect(contour)\n",
    "\n",
    "    # Ignore small contours\n",
    "    if cv2.contourArea(contour) < 500:\n",
    "        continue\n",
    "\n",
    "    # Extract the digit ROI (Region of Interest)\n",
    "    digit_roi = thresholded[y:y + h, x:x + w]\n",
    "\n",
    "    # Resize the digit ROI to a fixed size\n",
    "    resized_digit = cv2.resize(digit_roi, (28,28))\n",
    "\n",
    "    # Add the resized digit to the digits list\n",
    "    digits.append(resized_digit)\n",
    "\n",
    "    cv2.rectangle(image, (x, y), \n",
    "                      (x + h, y + w), (0,255,0),\n",
    "                      2)\n",
    "print(len(digits))\n",
    "print(digits[0].shape)\n",
    "# print(255-digits[0])"
   ]
  },
  {
   "cell_type": "code",
   "execution_count": 21,
   "metadata": {},
   "outputs": [],
   "source": [
    "for i in range(len(digits)):\n",
    "    digits[i]=(255.0-digits[i])/255\n"
   ]
  },
  {
   "cell_type": "code",
   "execution_count": 22,
   "metadata": {},
   "outputs": [],
   "source": [
    "cv2.imshow('a',digits[1])\n",
    "cv2.waitKey(0)\n",
    "cv2.destroyAllWindows()"
   ]
  }
 ],
 "metadata": {
  "kernelspec": {
   "display_name": "Python 3.10.6 64-bit",
   "language": "python",
   "name": "python3"
  },
  "language_info": {
   "codemirror_mode": {
    "name": "ipython",
    "version": 3
   },
   "file_extension": ".py",
   "mimetype": "text/x-python",
   "name": "python",
   "nbconvert_exporter": "python",
   "pygments_lexer": "ipython3",
   "version": "3.10.6"
  },
  "orig_nbformat": 4,
  "vscode": {
   "interpreter": {
    "hash": "916dbcbb3f70747c44a77c7bcd40155683ae19c65e1c03b4aa3499c5328201f1"
   }
  }
 },
 "nbformat": 4,
 "nbformat_minor": 2
}
